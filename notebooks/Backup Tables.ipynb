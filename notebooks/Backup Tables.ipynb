{
 "cells": [
  {
   "cell_type": "markdown",
   "id": "204855e4",
   "metadata": {},
   "source": [
    "Hello!\n",
    "This time we will learn how to use the bigquery backup job.\n",
    "\n",
    "So we will add this as a feature in our api, where we can trigger the backup on any of the 3 tables from the database. \n",
    "\n",
    "Data will be stored in a GCS bucket in AVRO format and in a later branch we will develop a feature to restore tables to its avro backup"
   ]
  },
  {
   "cell_type": "code",
   "execution_count": 21,
   "id": "181acef5",
   "metadata": {},
   "outputs": [],
   "source": [
    "from google.cloud import bigquery\n",
    "import os"
   ]
  },
  {
   "cell_type": "code",
   "execution_count": 28,
   "id": "dfad6bcd",
   "metadata": {},
   "outputs": [],
   "source": [
    "def create_table_backup(project, dataset_id, table_id, bucket_name):\n",
    "    \"\"\"Taken from GCP docs\"\"\"\n",
    "    client = bigquery.Client()\n",
    "    destination_uri = \"gs://{}/{}\".format(bucket_name, f\"{table_id}\")\n",
    "    dataset_ref = bigquery.DatasetReference(project, dataset_id)\n",
    "    table_ref = dataset_ref.table(table_id)\n",
    "\n",
    "    extract_job = client.extract_table(\n",
    "        table_ref,\n",
    "        destination_uri,\n",
    "        # Location must match that of the source table.\n",
    "        location=\"us-east1\",\n",
    "        job_config=bigquery.job.ExtractJobConfig(destination_format='AVRO')\n",
    "    )  # API request\n",
    "    extract_job.result()  # Waits for job to complete.\n",
    "\n",
    "    return(\n",
    "        \"Exported {}:{}.{} to {}\".format(project, dataset_id, table_id, destination_uri)\n",
    "    )"
   ]
  },
  {
   "cell_type": "code",
   "execution_count": 26,
   "id": "482cd1aa",
   "metadata": {},
   "outputs": [],
   "source": [
    "project = os.environ['GCP_PROJECT']\n",
    "dataset_id = 'globant'\n",
    "table_id = 'jobs'\n",
    "#project = \"bigquery-public-data\"\n",
    "#dataset_id = \"samples\"\n",
    "#table_id = \"shakespeare\"\n",
    "bucket_name = os.environ['GCP_BUCKET']"
   ]
  },
  {
   "cell_type": "code",
   "execution_count": 27,
   "id": "c13e9355",
   "metadata": {},
   "outputs": [
    {
     "data": {
      "text/plain": [
       "'Exported solar-fuze-233817:globant.jobs to gs://arojasb3-globant-challenge-2023/jobs.avro'"
      ]
     },
     "execution_count": 27,
     "metadata": {},
     "output_type": "execute_result"
    }
   ],
   "source": [
    "create_table_backup(project, dataset_id, table_id, bucket_name)"
   ]
  },
  {
   "cell_type": "code",
   "execution_count": null,
   "id": "59469f8b",
   "metadata": {},
   "outputs": [],
   "source": []
  }
 ],
 "metadata": {
  "kernelspec": {
   "display_name": "Python 3 (ipykernel)",
   "language": "python",
   "name": "python3"
  },
  "language_info": {
   "codemirror_mode": {
    "name": "ipython",
    "version": 3
   },
   "file_extension": ".py",
   "mimetype": "text/x-python",
   "name": "python",
   "nbconvert_exporter": "python",
   "pygments_lexer": "ipython3",
   "version": "3.8.16"
  }
 },
 "nbformat": 4,
 "nbformat_minor": 5
}
