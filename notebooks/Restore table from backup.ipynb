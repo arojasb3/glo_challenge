{
 "cells": [
  {
   "cell_type": "markdown",
   "id": "c31bf316",
   "metadata": {},
   "source": [
    "In this notebook we will restore a table from its backup stored in avro format.\n",
    "\n",
    "We will use the suggested code on GCP's official docs"
   ]
  },
  {
   "cell_type": "code",
   "execution_count": 9,
   "id": "cd90edcf",
   "metadata": {},
   "outputs": [],
   "source": [
    "import io\n",
    "import os\n",
    "from google.cloud import bigquery\n",
    "\n",
    "# Construct a BigQuery client object.\n",
    "client = bigquery.Client()\n",
    "\n",
    "project = os.environ['GCP_PROJECT']\n",
    "dataset_id = 'globant'\n",
    "table_id = 'jobs'\n",
    "bucket_name = os.environ['GCP_BUCKET'] + '/backups'\n",
    "full_table_id = project+'.'+dataset_id+'.'+table_id\n"
   ]
  },
  {
   "cell_type": "code",
   "execution_count": null,
   "id": "123626dd",
   "metadata": {},
   "outputs": [],
   "source": [
    "def parse_schema(schema_string):\n",
    "    schema_list = schema_string.split(',')\n",
    "    schema = []\n",
    "    for item in schema_list:\n",
    "        item_s = item.split(':')\n",
    "        schema.append(bigquery.SchemaField(item_s[0], item_s[1]))\n",
    "    return schema\n",
    "        "
   ]
  },
  {
   "cell_type": "code",
   "execution_count": 14,
   "id": "f8bf4049",
   "metadata": {},
   "outputs": [],
   "source": [
    "job_config = bigquery.LoadJobConfig(\n",
    "    write_disposition=bigquery.WriteDisposition.WRITE_TRUNCATE,\n",
    "    source_format=bigquery.SourceFormat.AVRO,\n",
    ")\n",
    "\n",
    "uri = 'gs://' + bucket_name + '/' + table_id\n"
   ]
  },
  {
   "cell_type": "code",
   "execution_count": 17,
   "id": "c556513a",
   "metadata": {},
   "outputs": [
    {
     "name": "stdout",
     "output_type": "stream",
     "text": [
      "Table restored with 198 rows.\n"
     ]
    }
   ],
   "source": [
    "load_job = client.load_table_from_uri(\n",
    "    uri, full_table_id, job_config=job_config\n",
    ")  # Make an API request.\n",
    "\n",
    "load_job.result()  # Waits for the job to complete.\n",
    "\n",
    "destination_table = client.get_table(full_table_id)\n",
    "print(\"Table {} restored with {} rows.\".format(table_id, destination_table.num_rows))"
   ]
  },
  {
   "cell_type": "code",
   "execution_count": null,
   "id": "fbd39345",
   "metadata": {},
   "outputs": [],
   "source": []
  }
 ],
 "metadata": {
  "kernelspec": {
   "display_name": "Python 3 (ipykernel)",
   "language": "python",
   "name": "python3"
  },
  "language_info": {
   "codemirror_mode": {
    "name": "ipython",
    "version": 3
   },
   "file_extension": ".py",
   "mimetype": "text/x-python",
   "name": "python",
   "nbconvert_exporter": "python",
   "pygments_lexer": "ipython3",
   "version": "3.8.16"
  }
 },
 "nbformat": 4,
 "nbformat_minor": 5
}
