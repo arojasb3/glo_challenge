{
 "cells": [
  {
   "cell_type": "code",
   "execution_count": 68,
   "id": "1f02402c",
   "metadata": {},
   "outputs": [],
   "source": [
    "import pandas as pd\n",
    "import apache_beam as beam\n",
    "import os"
   ]
  },
  {
   "cell_type": "code",
   "execution_count": 74,
   "id": "f1f3ec0b",
   "metadata": {},
   "outputs": [],
   "source": [
    "hem_schema = \"id:INTEGER, name:STRING, datetime:DATETIME, department_id:INTEGER, job_id:INTEGER\"\n",
    "table_spec = os.environ['GCP_PROJECT'] + ':globant.hired_employees'"
   ]
  },
  {
   "cell_type": "code",
   "execution_count": 76,
   "id": "c559ed1d",
   "metadata": {},
   "outputs": [],
   "source": [
    "def coalesce_null_ids(data):\n",
    "    if data[3] == \"\":\n",
    "        data[3] = '-1'\n",
    "    if data[4] == \"\":\n",
    "        data[4] = '-1'\n",
    "    return data\n",
    "    \n",
    "def fix_timestamp(data):\n",
    "    import datetime\n",
    "    if data[2] == '':\n",
    "        return data\n",
    "    d = datetime.datetime.strptime(data[2], \"%Y-%m-%dT%H:%M:%SZ\")\n",
    "    data[2] = d.strftime(\"%Y-%m-%d %H:%M:%S\")\n",
    "    return data\n",
    "\n",
    "def create_dict(data):\n",
    "    return {\n",
    "        'id': data[0],\n",
    "        'name': data[1],\n",
    "        'datetime': data[2],\n",
    "        'department_id': data[3],\n",
    "        'job_id': data[4]\n",
    "    }"
   ]
  },
  {
   "cell_type": "code",
   "execution_count": 80,
   "id": "4e40229c",
   "metadata": {},
   "outputs": [
    {
     "name": "stderr",
     "output_type": "stream",
     "text": [
      "WARNING:apache_beam.options.pipeline_options:Discarding unparseable args: ['-f', 'C:\\\\Users\\\\admin\\\\AppData\\\\Roaming\\\\jupyter\\\\runtime\\\\kernel-eab884ce-7bd6-43f6-af75-376341abd1da.json']\n",
      "WARNING:apache_beam.options.pipeline_options:Discarding unparseable args: ['-f', 'C:\\\\Users\\\\admin\\\\AppData\\\\Roaming\\\\jupyter\\\\runtime\\\\kernel-eab884ce-7bd6-43f6-af75-376341abd1da.json']\n",
      "WARNING:apache_beam.options.pipeline_options:Discarding unparseable args: ['-f', 'C:\\\\Users\\\\admin\\\\AppData\\\\Roaming\\\\jupyter\\\\runtime\\\\kernel-eab884ce-7bd6-43f6-af75-376341abd1da.json']\n"
     ]
    }
   ],
   "source": [
    "options = PipelineOptions(\n",
    "      project = os.environ['GCP_PROJECT'],\n",
    "      temp_location = \"gs://\" + os.environ['GCP_BUCKET '] + \"/beam_temp_location\",\n",
    "      region = os.environ['GCP_REGION']\n",
    "   )\n",
    "with beam.Pipeline(options=options) as pipe:\n",
    "    ip = (\n",
    "        pipe\n",
    "        | \"Read departments csv\" >> beam.io.ReadFromText('gs://arojasb3-globant-challenge-2023/hired_employees.csv', skip_header_lines=False)\n",
    "        | \"Split CSV by commas\" >> beam.Map(lambda x: x.split(\",\"))\n",
    "        | \"Parse Timestamps for Bigquery\" >> beam.Map(fix_timestamp)\n",
    "        | \"Coalesce empty departments and jobs\" >> beam.Map(coalesce_null_ids)\n",
    "        | \"Parse list into dict for BQ\" >> beam.Map(create_dict)\n",
    "        | beam.io.WriteToBigQuery(\n",
    "            table_spec,\n",
    "            schema=hem_schema,\n",
    "            write_disposition=beam.io.BigQueryDisposition.WRITE_TRUNCATE,\n",
    "            create_disposition=beam.io.BigQueryDisposition.CREATE_IF_NEEDED\n",
    "        )\n",
    "    )\n",
    "    pipe.run()"
   ]
  }
 ],
 "metadata": {
  "kernelspec": {
   "display_name": "Python 3 (ipykernel)",
   "language": "python",
   "name": "python3"
  },
  "language_info": {
   "codemirror_mode": {
    "name": "ipython",
    "version": 3
   },
   "file_extension": ".py",
   "mimetype": "text/x-python",
   "name": "python",
   "nbconvert_exporter": "python",
   "pygments_lexer": "ipython3",
   "version": "3.8.16"
  }
 },
 "nbformat": 4,
 "nbformat_minor": 5
}
